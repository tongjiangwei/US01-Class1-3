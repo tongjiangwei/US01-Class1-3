{
 "cells": [
  {
   "cell_type": "code",
   "execution_count": 2,
   "metadata": {
    "collapsed": true
   },
   "outputs": [],
   "source": [
    "import re\n",
    "\n",
    "people = 4\n",
    "tip = \"i think it was pretty good, give my compliment to the chef\"\n",
    "tips = {\n",
    "    \"bad\": 0.1,\n",
    "    \"average\": 0.18,\n",
    "    \"good\": 0.2}\n"
   ]
  },
  {
   "cell_type": "markdown",
   "metadata": {},
   "source": [
    "### 从维基百科获得数据"
   ]
  },
  {
   "cell_type": "code",
   "execution_count": 3,
   "metadata": {
    "collapsed": true
   },
   "outputs": [],
   "source": [
    "#从维基百科获得数据\n",
    "data = \"\"\"\n",
    "Alabama\t4%\t13.5%\n",
    "Alaska\t0%\t7%\n",
    "Arizona\t5.6%\t10.725%\n",
    "Arkansas\t6.5%\t11.625%\t1.5%+\n",
    "California\t7.25%\t10.25%\n",
    "Colorado\t2.9%\t10%\n",
    "Connecticut\t6.35%\t6.35%\t\t\t\t\t\t1%\n",
    "Delaware\t0%\t0%\n",
    "District of Columbia\t5.75%\t5.75%\t\t10%\n",
    "Florida\t6%\t7.5%\t\t9% (max)\n",
    "Georgia\t4%\t8%\t4% (max)[40]\n",
    "Guam\t4%\t4%\n",
    "Hawaii\t4.166%\t4.712%\n",
    "Idaho\t6%\t8.5%\t\t\t[41]\n",
    "Illinois\t6.25%\t10.25%\t1%+\t8.25%+\t1%+\t1%+\n",
    "Indiana\t7%\t7%\t\t9% (max)\n",
    "Iowa[42]\t6%\t7%\n",
    "Kansas\t6.5%\t10.15%\n",
    "Kentucky\t6%\t6%\n",
    "Louisiana\t5%\t12%\t7.0% (max)\n",
    "Maine\t5.5%\t5.5%\t\t8%\n",
    "Maryland\t6%\t6%\n",
    "Massachusetts\t6.25%\t6.25%\t\t7% (max)\t\t\t> $175\n",
    "Michigan\t6%\t6%\n",
    "Minnesota\t6.875%\t7.875%\t\t10.775% (max)\n",
    "Mississippi\t7%\t7.25%\n",
    "Missouri\t4.225%\t10.85%\t1.225%\n",
    "Montana\t0%\t0%\n",
    "Nebraska\t5.5%\t7.5%\t\t9.5%\n",
    "(Omaha)\n",
    "Nevada\t6.85%\t8.25%\n",
    "New Hampshire\t0%\t0%\t\t9%\n",
    "New Jersey\t6.625%\t12.875%\n",
    "New Mexico\t5.125%\t8.688%\n",
    "New York\t4%\t8.875%\t\t\t\t\t> $110\n",
    "North Carolina\t4.75%\t7.50%\t2%\t8.50% (max)\n",
    "North Dakota [43]\t5%\t8%\n",
    "Ohio[44]\t5.75%\t8%\t\tDine-in\n",
    "Oklahoma\t4.5%\t11%\n",
    "Oregon\t0%\t0%\n",
    "Pennsylvania\t6%\t8%\n",
    "Puerto Rico\t10.5%\t11.5%\t1%\n",
    "Rhode Island\t7%\t7%\t\t8%\n",
    "South Carolina\t6%\t9%\t\t10.5%\n",
    "South Dakota\t4%\t6%\n",
    "Tennessee\t7%\t9.75%\t4%+\n",
    "Texas\t6.25%\t8.25%\n",
    "Utah\t5.95%\t8.35%\t3%\n",
    "Vermont\t6%\t7%\t\t9%+\t\t\t> $110\n",
    "Virginia\t5.3%\t6%\t2.5%\t5.3%+\n",
    "Washington\t6.5%\t10.4%\t\t10% (max)\n",
    "West Virginia\t6%\t7%\n",
    "Wisconsin\t5%\t6.75%\n",
    "Wyoming\t4%\t6%\n",
    "\"\"\"\n"
   ]
  },
  {
   "cell_type": "markdown",
   "metadata": {},
   "source": [
    "### 建立空字典存储taxes数据"
   ]
  },
  {
   "cell_type": "code",
   "execution_count": 4,
   "metadata": {
    "collapsed": false
   },
   "outputs": [
    {
     "name": "stdout",
     "output_type": "stream",
     "text": [
      "{'Idaho': 0.06, 'Puerto Rico': 0.105, 'Massachusetts': 0.0625, 'Iowa[42]': 0.06, 'South Dakota': 0.04, 'Oregon': 0.0, 'North Carolina': 0.0475, 'Ohio[44]': 0.0575, 'Connecticut': 0.0635, 'Indiana': 0.07, 'Oklahoma': 0.045, 'Alaska': 0.0, 'New York': 0.04, 'Texas': 0.0625, 'Nevada': 0.06849999999999999, 'South Carolina': 0.06, 'Washington': 0.065, 'Colorado': 0.028999999999999998, 'New Hampshire': 0.0, 'Missouri': 0.042249999999999996, 'Michigan': 0.06, 'Pennsylvania': 0.06, 'New Jersey': 0.06625, 'Mississippi': 0.07, 'Louisiana': 0.05, 'Arizona': 0.055999999999999994, 'Vermont': 0.06, 'Maine': 0.055, 'Georgia': 0.04, 'District of Columbia': 0.0575, 'Delaware': 0.0, 'Montana': 0.0, 'Utah': 0.059500000000000004, 'New Mexico': 0.05125, 'Rhode Island': 0.07, 'Kentucky': 0.06, 'Florida': 0.06, 'Nebraska': 0.055, 'Arkansas': 0.065, 'North Dakota [43]': 0.05, 'West Virginia': 0.06, 'Guam': 0.04, 'Illinois': 0.0625, 'Minnesota': 0.06875, 'Maryland': 0.06, 'Tennessee': 0.07, 'California': 0.0725, 'Wyoming': 0.04, 'Hawaii': 0.04166, 'Kansas': 0.065, 'Alabama': 0.04, 'Wisconsin': 0.05, 'Virginia': 0.053}\n"
     ]
    }
   ],
   "source": [
    "#建立空字典存储taxes数据\n",
    "taxes = {}\n",
    "for line in data.split(\"\\n\"):\n",
    "    if len(line) < 2:\n",
    "        continue\n",
    "    if \"Omaha\" in line:\n",
    "        continue\n",
    "    state = line.split(\"\\t\")[0]\n",
    "    tax = float(line.split(\"\\t\")[1][:-1])/100\n",
    "    taxes[state] = tax\n",
    "print(taxes)\n"
   ]
  },
  {
   "cell_type": "code",
   "execution_count": 5,
   "metadata": {
    "collapsed": true
   },
   "outputs": [],
   "source": [
    "#输入州名称\n",
    "state = \"California\"\n"
   ]
  },
  {
   "cell_type": "markdown",
   "metadata": {},
   "source": [
    "### 查找对应的税收"
   ]
  },
  {
   "cell_type": "code",
   "execution_count": 7,
   "metadata": {
    "collapsed": false
   },
   "outputs": [
    {
     "name": "stdout",
     "output_type": "stream",
     "text": [
      "0.0725\n"
     ]
    }
   ],
   "source": [
    "#查找出对应的税收\n",
    "print(taxes[state])"
   ]
  },
  {
   "cell_type": "code",
   "execution_count": 8,
   "metadata": {
    "collapsed": false
   },
   "outputs": [
    {
     "name": "stdout",
     "output_type": "stream",
     "text": [
      "tip is:  0.2\n"
     ]
    }
   ],
   "source": [
    "#方法一：裁剪字符串,去匹配字典中的key\n",
    "finalTip = \"average\"\n",
    "for word in tip.lower().split():\n",
    "    if not word.isalnum():\n",
    "        m = re.search(r\"\\w+\", word)\n",
    "        word = m.group(0)\n",
    "\n",
    "    if word in tips.keys():\n",
    "        finalTip = tips[word]\n",
    "        break\n",
    "\n",
    "print(\"tip is: \",finalTip)"
   ]
  },
  {
   "cell_type": "code",
   "execution_count": 9,
   "metadata": {
    "collapsed": false
   },
   "outputs": [
    {
     "name": "stdout",
     "output_type": "stream",
     "text": [
      "tip is:  0.2\n"
     ]
    }
   ],
   "source": [
    "#方法二：查找key，去匹配字符串中的单词\n",
    "finalTip = \"average\"\n",
    "for k in tips.keys():\n",
    "    if k in tip.lower():\n",
    "        finalTip = tips[k]\n",
    "        break\n",
    "print(\"tip is: \",finalTip)\n"
   ]
  },
  {
   "cell_type": "code",
   "execution_count": 10,
   "metadata": {
    "collapsed": false
   },
   "outputs": [
    {
     "name": "stdout",
     "output_type": "stream",
     "text": [
      "daxian\n"
     ]
    }
   ],
   "source": [
    "#lower()函数\n",
    "upper = \"DAXIAN\"\n",
    "print(upper.lower())#lower函数将字符串中所有的大写改成小写\n"
   ]
  },
  {
   "cell_type": "code",
   "execution_count": null,
   "metadata": {
    "collapsed": true
   },
   "outputs": [],
   "source": []
  }
 ],
 "metadata": {
  "anaconda-cloud": {},
  "kernelspec": {
   "display_name": "Python [default]",
   "language": "python",
   "name": "python3"
  },
  "language_info": {
   "codemirror_mode": {
    "name": "ipython",
    "version": 3
   },
   "file_extension": ".py",
   "mimetype": "text/x-python",
   "name": "python",
   "nbconvert_exporter": "python",
   "pygments_lexer": "ipython3",
   "version": "3.5.2"
  }
 },
 "nbformat": 4,
 "nbformat_minor": 1
}
